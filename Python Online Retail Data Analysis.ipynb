{
 "cells": [
  {
   "cell_type": "code",
   "execution_count": 839,
   "id": "7e51a7da-c283-4b95-a608-333460068ee8",
   "metadata": {},
   "outputs": [
    {
     "data": {
      "text/html": [
       "<div>\n",
       "<style scoped>\n",
       "    .dataframe tbody tr th:only-of-type {\n",
       "        vertical-align: middle;\n",
       "    }\n",
       "\n",
       "    .dataframe tbody tr th {\n",
       "        vertical-align: top;\n",
       "    }\n",
       "\n",
       "    .dataframe thead th {\n",
       "        text-align: right;\n",
       "    }\n",
       "</style>\n",
       "<table border=\"1\" class=\"dataframe\">\n",
       "  <thead>\n",
       "    <tr style=\"text-align: right;\">\n",
       "      <th></th>\n",
       "      <th>InvoiceNo</th>\n",
       "      <th>InvoiceDate</th>\n",
       "      <th>InvoiceTime</th>\n",
       "      <th>StockCode</th>\n",
       "      <th>Description</th>\n",
       "      <th>Quantity</th>\n",
       "      <th>UnitPrice</th>\n",
       "      <th>Totalsale</th>\n",
       "      <th>CustomerID</th>\n",
       "      <th>Country</th>\n",
       "    </tr>\n",
       "  </thead>\n",
       "  <tbody>\n",
       "    <tr>\n",
       "      <th>0</th>\n",
       "      <td>536365</td>\n",
       "      <td>01-12-2010</td>\n",
       "      <td>08:26:00 AM</td>\n",
       "      <td>85123A</td>\n",
       "      <td>WHITE HANGING HEART T-LIGHT HOLDER</td>\n",
       "      <td>6</td>\n",
       "      <td>2.55</td>\n",
       "      <td>15.30</td>\n",
       "      <td>17850.0</td>\n",
       "      <td>United Kingdom</td>\n",
       "    </tr>\n",
       "    <tr>\n",
       "      <th>1</th>\n",
       "      <td>536365</td>\n",
       "      <td>01-12-2010</td>\n",
       "      <td>08:26:00 AM</td>\n",
       "      <td>71053</td>\n",
       "      <td>WHITE METAL LANTERN</td>\n",
       "      <td>6</td>\n",
       "      <td>3.39</td>\n",
       "      <td>20.34</td>\n",
       "      <td>17850.0</td>\n",
       "      <td>United Kingdom</td>\n",
       "    </tr>\n",
       "    <tr>\n",
       "      <th>2</th>\n",
       "      <td>536365</td>\n",
       "      <td>01-12-2010</td>\n",
       "      <td>08:26:00 AM</td>\n",
       "      <td>84406B</td>\n",
       "      <td>CREAM CUPID HEARTS COAT HANGER</td>\n",
       "      <td>8</td>\n",
       "      <td>2.75</td>\n",
       "      <td>22.00</td>\n",
       "      <td>17850.0</td>\n",
       "      <td>United Kingdom</td>\n",
       "    </tr>\n",
       "    <tr>\n",
       "      <th>3</th>\n",
       "      <td>536365</td>\n",
       "      <td>01-12-2010</td>\n",
       "      <td>08:26:00 AM</td>\n",
       "      <td>84029G</td>\n",
       "      <td>KNITTED UNION FLAG HOT WATER BOTTLE</td>\n",
       "      <td>6</td>\n",
       "      <td>3.39</td>\n",
       "      <td>20.34</td>\n",
       "      <td>17850.0</td>\n",
       "      <td>United Kingdom</td>\n",
       "    </tr>\n",
       "    <tr>\n",
       "      <th>4</th>\n",
       "      <td>536365</td>\n",
       "      <td>01-12-2010</td>\n",
       "      <td>08:26:00 AM</td>\n",
       "      <td>84029E</td>\n",
       "      <td>RED WOOLLY HOTTIE WHITE HEART.</td>\n",
       "      <td>6</td>\n",
       "      <td>3.39</td>\n",
       "      <td>20.34</td>\n",
       "      <td>17850.0</td>\n",
       "      <td>United Kingdom</td>\n",
       "    </tr>\n",
       "  </tbody>\n",
       "</table>\n",
       "</div>"
      ],
      "text/plain": [
       "  InvoiceNo InvoiceDate  InvoiceTime StockCode  \\\n",
       "0    536365  01-12-2010  08:26:00 AM    85123A   \n",
       "1    536365  01-12-2010  08:26:00 AM     71053   \n",
       "2    536365  01-12-2010  08:26:00 AM    84406B   \n",
       "3    536365  01-12-2010  08:26:00 AM    84029G   \n",
       "4    536365  01-12-2010  08:26:00 AM    84029E   \n",
       "\n",
       "                           Description  Quantity  UnitPrice  Totalsale  \\\n",
       "0   WHITE HANGING HEART T-LIGHT HOLDER         6       2.55      15.30   \n",
       "1                  WHITE METAL LANTERN         6       3.39      20.34   \n",
       "2       CREAM CUPID HEARTS COAT HANGER         8       2.75      22.00   \n",
       "3  KNITTED UNION FLAG HOT WATER BOTTLE         6       3.39      20.34   \n",
       "4       RED WOOLLY HOTTIE WHITE HEART.         6       3.39      20.34   \n",
       "\n",
       "   CustomerID         Country  \n",
       "0     17850.0  United Kingdom  \n",
       "1     17850.0  United Kingdom  \n",
       "2     17850.0  United Kingdom  \n",
       "3     17850.0  United Kingdom  \n",
       "4     17850.0  United Kingdom  "
      ]
     },
     "execution_count": 839,
     "metadata": {},
     "output_type": "execute_result"
    }
   ],
   "source": [
    "# Importing necessary libraries for data analysis and visualization\n",
    "import pandas as pd\n",
    "import numpy as np\n",
    "import matplotlib.pyplot as plt\n",
    "import scipy as sp\n",
    "import seaborn as sns\n",
    "\n",
    "# Reading the dataset from a CSV file into a pandas DataFrame\n",
    "df= pd.read_csv(r'C:\\Online Retail.csv', sep=',')\n",
    " # Displaying the first few rows of the DataFrame\n",
    "df.head()"
   ]
  },
  {
   "cell_type": "code",
   "execution_count": 840,
   "id": "cd9a0e40-b664-4358-ae62-d4085ce6c734",
   "metadata": {},
   "outputs": [
    {
     "name": "stdout",
     "output_type": "stream",
     "text": [
      "<class 'pandas.core.frame.DataFrame'>\n",
      "RangeIndex: 541909 entries, 0 to 541908\n",
      "Data columns (total 10 columns):\n",
      " #   Column       Non-Null Count   Dtype  \n",
      "---  ------       --------------   -----  \n",
      " 0   InvoiceNo    541909 non-null  object \n",
      " 1   InvoiceDate  541909 non-null  object \n",
      " 2   InvoiceTime  541909 non-null  object \n",
      " 3   StockCode    541909 non-null  object \n",
      " 4   Description  540455 non-null  object \n",
      " 5   Quantity     541909 non-null  int64  \n",
      " 6   UnitPrice    541909 non-null  float64\n",
      " 7   Totalsale    541909 non-null  float64\n",
      " 8   CustomerID   406829 non-null  float64\n",
      " 9   Country      541909 non-null  object \n",
      "dtypes: float64(3), int64(1), object(6)\n",
      "memory usage: 41.3+ MB\n"
     ]
    }
   ],
   "source": [
    "# Getting an overview of the DataFrame (column names, data types, etc.)\n",
    "df.info()   #get the overview of the data frame"
   ]
  },
  {
   "cell_type": "code",
   "execution_count": 841,
   "id": "c29a618f-1175-4fbf-85aa-61caad5d76ae",
   "metadata": {},
   "outputs": [
    {
     "data": {
      "text/html": [
       "<div>\n",
       "<style scoped>\n",
       "    .dataframe tbody tr th:only-of-type {\n",
       "        vertical-align: middle;\n",
       "    }\n",
       "\n",
       "    .dataframe tbody tr th {\n",
       "        vertical-align: top;\n",
       "    }\n",
       "\n",
       "    .dataframe thead th {\n",
       "        text-align: right;\n",
       "    }\n",
       "</style>\n",
       "<table border=\"1\" class=\"dataframe\">\n",
       "  <thead>\n",
       "    <tr style=\"text-align: right;\">\n",
       "      <th></th>\n",
       "      <th>Quantity</th>\n",
       "      <th>UnitPrice</th>\n",
       "      <th>Totalsale</th>\n",
       "      <th>CustomerID</th>\n",
       "    </tr>\n",
       "  </thead>\n",
       "  <tbody>\n",
       "    <tr>\n",
       "      <th>count</th>\n",
       "      <td>541909.000000</td>\n",
       "      <td>541909.000000</td>\n",
       "      <td>541909.000000</td>\n",
       "      <td>406829.000000</td>\n",
       "    </tr>\n",
       "    <tr>\n",
       "      <th>mean</th>\n",
       "      <td>9.552250</td>\n",
       "      <td>4.611114</td>\n",
       "      <td>17.987795</td>\n",
       "      <td>15287.690570</td>\n",
       "    </tr>\n",
       "    <tr>\n",
       "      <th>std</th>\n",
       "      <td>218.081158</td>\n",
       "      <td>96.759853</td>\n",
       "      <td>378.810824</td>\n",
       "      <td>1713.600303</td>\n",
       "    </tr>\n",
       "    <tr>\n",
       "      <th>min</th>\n",
       "      <td>-80995.000000</td>\n",
       "      <td>-11062.060000</td>\n",
       "      <td>-168469.600000</td>\n",
       "      <td>12346.000000</td>\n",
       "    </tr>\n",
       "    <tr>\n",
       "      <th>25%</th>\n",
       "      <td>1.000000</td>\n",
       "      <td>1.250000</td>\n",
       "      <td>3.400000</td>\n",
       "      <td>13953.000000</td>\n",
       "    </tr>\n",
       "    <tr>\n",
       "      <th>50%</th>\n",
       "      <td>3.000000</td>\n",
       "      <td>2.080000</td>\n",
       "      <td>9.750000</td>\n",
       "      <td>15152.000000</td>\n",
       "    </tr>\n",
       "    <tr>\n",
       "      <th>75%</th>\n",
       "      <td>10.000000</td>\n",
       "      <td>4.130000</td>\n",
       "      <td>17.400000</td>\n",
       "      <td>16791.000000</td>\n",
       "    </tr>\n",
       "    <tr>\n",
       "      <th>max</th>\n",
       "      <td>80995.000000</td>\n",
       "      <td>38970.000000</td>\n",
       "      <td>168469.600000</td>\n",
       "      <td>18287.000000</td>\n",
       "    </tr>\n",
       "  </tbody>\n",
       "</table>\n",
       "</div>"
      ],
      "text/plain": [
       "            Quantity      UnitPrice      Totalsale     CustomerID\n",
       "count  541909.000000  541909.000000  541909.000000  406829.000000\n",
       "mean        9.552250       4.611114      17.987795   15287.690570\n",
       "std       218.081158      96.759853     378.810824    1713.600303\n",
       "min    -80995.000000  -11062.060000 -168469.600000   12346.000000\n",
       "25%         1.000000       1.250000       3.400000   13953.000000\n",
       "50%         3.000000       2.080000       9.750000   15152.000000\n",
       "75%        10.000000       4.130000      17.400000   16791.000000\n",
       "max     80995.000000   38970.000000  168469.600000   18287.000000"
      ]
     },
     "execution_count": 841,
     "metadata": {},
     "output_type": "execute_result"
    }
   ],
   "source": [
    "df.describe() # Getting a statistical summary of the DataFrame, "
   ]
  },
  {
   "cell_type": "code",
   "execution_count": 842,
   "id": "232507f7-a6dc-4b7e-80ee-56911aaa7b06",
   "metadata": {},
   "outputs": [
    {
     "data": {
      "text/plain": [
       "InvoiceNo           0\n",
       "InvoiceDate         0\n",
       "InvoiceTime         0\n",
       "StockCode           0\n",
       "Description      1454\n",
       "Quantity            0\n",
       "UnitPrice           0\n",
       "Totalsale           0\n",
       "CustomerID     135080\n",
       "Country             0\n",
       "dtype: int64"
      ]
     },
     "execution_count": 842,
     "metadata": {},
     "output_type": "execute_result"
    }
   ],
   "source": [
    "df.isnull().sum() # Counting the number of missing values in each column"
   ]
  },
  {
   "cell_type": "code",
   "execution_count": 843,
   "id": "70246630-2074-4353-a994-f88ddb90d78f",
   "metadata": {},
   "outputs": [],
   "source": [
    "# Drop rows where 'CustomerID' is NaN or null\n",
    "df = df.dropna(subset=['CustomerID'])"
   ]
  },
  {
   "cell_type": "code",
   "execution_count": 844,
   "id": "b9c2be36-62b1-412c-8b78-c9806aa068ab",
   "metadata": {},
   "outputs": [],
   "source": [
    "df['Description'].fillna('Unknown', inplace=True) #replacing any missing values in the Description with Unknown"
   ]
  },
  {
   "cell_type": "code",
   "execution_count": 845,
   "id": "d9205472-2684-43ce-aa71-00ca9aca4598",
   "metadata": {},
   "outputs": [
    {
     "data": {
      "text/plain": [
       "InvoiceNo      0\n",
       "InvoiceDate    0\n",
       "InvoiceTime    0\n",
       "StockCode      0\n",
       "Description    0\n",
       "Quantity       0\n",
       "UnitPrice      0\n",
       "Totalsale      0\n",
       "CustomerID     0\n",
       "Country        0\n",
       "dtype: int64"
      ]
     },
     "execution_count": 845,
     "metadata": {},
     "output_type": "execute_result"
    }
   ],
   "source": [
    "df.isnull().sum()  #confirming there are no null values anymore"
   ]
  },
  {
   "cell_type": "code",
   "execution_count": 846,
   "id": "6de7783b-f33d-47ee-81fc-1cbb890ebb23",
   "metadata": {},
   "outputs": [],
   "source": [
    "#Eliminating rows where Uniteprice is 0\n",
    "df = df[df['UnitPrice'] != 0]\n"
   ]
  },
  {
   "cell_type": "code",
   "execution_count": 847,
   "id": "12177e50-7fab-47cf-9964-910d8f8a15d0",
   "metadata": {},
   "outputs": [],
   "source": [
    "df['Description'] = df['Description'].str.strip() # eliminating whitespace from the Description column"
   ]
  },
  {
   "cell_type": "code",
   "execution_count": 848,
   "id": "c15ac127-7892-42c7-b5de-d7dbc224fdf4",
   "metadata": {},
   "outputs": [],
   "source": [
    "distinct_county= df['Country'].unique() # exploring the data set for countries where the orders are going\n",
    "#distinct_county"
   ]
  },
  {
   "cell_type": "code",
   "execution_count": 849,
   "id": "b1297a0c-ee68-41c4-8625-2c1d6c33f965",
   "metadata": {},
   "outputs": [
    {
     "name": "stdout",
     "output_type": "stream",
     "text": [
      "<class 'pandas.core.frame.DataFrame'>\n",
      "Index: 406789 entries, 0 to 541908\n",
      "Data columns (total 10 columns):\n",
      " #   Column       Non-Null Count   Dtype         \n",
      "---  ------       --------------   -----         \n",
      " 0   InvoiceNo    406789 non-null  object        \n",
      " 1   InvoiceDate  406789 non-null  datetime64[ns]\n",
      " 2   InvoiceTime  406789 non-null  object        \n",
      " 3   StockCode    406789 non-null  object        \n",
      " 4   Description  406789 non-null  object        \n",
      " 5   Quantity     406789 non-null  int64         \n",
      " 6   UnitPrice    406789 non-null  float64       \n",
      " 7   Totalsale    406789 non-null  float64       \n",
      " 8   CustomerID   406789 non-null  object        \n",
      " 9   Country      406789 non-null  object        \n",
      "dtypes: datetime64[ns](1), float64(2), int64(1), object(6)\n",
      "memory usage: 34.1+ MB\n"
     ]
    }
   ],
   "source": [
    "df['InvoiceDate'] = pd.to_datetime(df['InvoiceDate'],format='%d-%m-%Y', errors = 'coerce') #changing the data type to datetime\n",
    "df['InvoiceTime'] = pd.to_datetime(df['InvoiceTime'], format='%I:%M:%S %p').dt.time #changing the format to time\n",
    "df['Quantity'] =pd.to_numeric(df['Quantity'], errors = 'coerce') #changing the data type to float\n",
    "df['CustomerID'] =df['CustomerID'].astype('object')\n",
    "df.info()"
   ]
  },
  {
   "cell_type": "code",
   "execution_count": 850,
   "id": "df401b62-d220-49de-83fc-566ca7ebae10",
   "metadata": {},
   "outputs": [
    {
     "data": {
      "text/plain": [
       "5225"
      ]
     },
     "execution_count": 850,
     "metadata": {},
     "output_type": "execute_result"
    }
   ],
   "source": [
    "df.duplicated().sum()#checking for duplicates"
   ]
  },
  {
   "cell_type": "code",
   "execution_count": 851,
   "id": "8c1a8bdb-5589-42bc-b4f1-1e84126c4453",
   "metadata": {},
   "outputs": [],
   "source": [
    "df.drop_duplicates(inplace=True) #eliminates all duplicates but keeps the initial value"
   ]
  },
  {
   "cell_type": "code",
   "execution_count": 852,
   "id": "fbbfc11b-3374-4f62-be4c-bb892571412b",
   "metadata": {},
   "outputs": [
    {
     "name": "stdout",
     "output_type": "stream",
     "text": [
      "Country\n",
      "United Kingdom          6747156.15\n",
      "Netherlands              284661.54\n",
      "EIRE                     250001.78\n",
      "Germany                  221509.47\n",
      "France                   196626.05\n",
      "Australia                137009.77\n",
      "Switzerland               55739.40\n",
      "Spain                     54756.03\n",
      "Belgium                   40910.96\n",
      "Sweden                    36585.41\n",
      "Japan                     35340.62\n",
      "Norway                    35163.46\n",
      "Portugal                  28995.76\n",
      "Finland                   22326.74\n",
      "Channel Islands           20076.39\n",
      "Denmark                   18768.14\n",
      "Italy                     16890.51\n",
      "Cyprus                    12858.76\n",
      "Austria                   10154.32\n",
      "Singapore                  9120.39\n",
      "Poland                     7213.14\n",
      "Israel                     6988.40\n",
      "Greece                     4710.52\n",
      "Iceland                    4310.00\n",
      "Canada                     3666.38\n",
      "Unspecified                2660.77\n",
      "Malta                      2505.47\n",
      "United Arab Emirates       1902.28\n",
      "USA                        1730.92\n",
      "Lebanon                    1693.88\n",
      "Lithuania                  1661.06\n",
      "European Community         1291.75\n",
      "Brazil                     1143.60\n",
      "RSA                        1002.31\n",
      "Czech Republic              707.72\n",
      "Bahrain                     548.40\n",
      "Saudi Arabia                131.17\n",
      "Name: Totalsale, dtype: float64\n"
     ]
    }
   ],
   "source": [
    "#Calculating the outliers by using Interqurtile Range(IQR). The identified outliers are then sorted and printed in descending order of their total sales.\n",
    "sales_by_country= df.groupby('Country')['Totalsale'].sum()\n",
    "\n",
    "Q1= sales_by_country.quantile(0.25) \n",
    "Q3 = sales_by_country.quantile(0.75)\n",
    "\n",
    "IQR = Q1-Q3 # Interquertile range\n",
    "\n",
    "lower_bound = Q1 - 1.5* IQR\n",
    "upper_bound = Q3 + 1.5* IQR\n",
    "outliers = sales_by_country[(sales_by_country < lower_bound) | (sales_by_country > upper_bound)]\n",
    "\n",
    "print(outliers.sort_values(ascending=False))"
   ]
  },
  {
   "cell_type": "code",
   "execution_count": 853,
   "id": "9ff56c2d-956a-4ca9-8b6a-1733036db9e9",
   "metadata": {},
   "outputs": [
    {
     "data": {
      "text/plain": [
       "8872"
      ]
     },
     "execution_count": 853,
     "metadata": {},
     "output_type": "execute_result"
    }
   ],
   "source": [
    "#Looking for negative values in the Quantity column\n",
    "check_negative_quantity = df['Quantity']<0\n",
    "check_negative_quantity.sum()"
   ]
  },
  {
   "cell_type": "code",
   "execution_count": 854,
   "id": "2785c3fb-da61-4814-8a7c-e9eed4cd7003",
   "metadata": {},
   "outputs": [
    {
     "data": {
      "text/plain": [
       "8872"
      ]
     },
     "execution_count": 854,
     "metadata": {},
     "output_type": "execute_result"
    }
   ],
   "source": [
    "#Looking for negative values in the Totalsale column\n",
    "check_negative_sales = df['Totalsale']<0\n",
    "check_negative_sales.sum()"
   ]
  },
  {
   "cell_type": "markdown",
   "id": "7d3732a4-6274-4f5f-a2a6-52780ff0d7ee",
   "metadata": {},
   "source": [
    "This script examines a dataset (df) to find transactions where the total sale amount ('Totalsale') is negative. It identifies these transactions and moves the negative sale amounts to a new column called 'Refunds_Amount'. Additionally, to correct the data, it changes these negative sale amounts to 0. Finally, it shows the filtered dataset, highlighting transactions that originally had negative sale amounts. This process helps in managing and visualizing refunds or transactions with incorrect sale values."
   ]
  },
  {
   "cell_type": "code",
   "execution_count": 855,
   "id": "de93b8aa-6750-40e1-ab37-f66e4c52d5db",
   "metadata": {},
   "outputs": [
    {
     "name": "stdout",
     "output_type": "stream",
     "text": [
      "       InvoiceNo InvoiceDate InvoiceTime StockCode  \\\n",
      "141      C536379  2010-12-01    09:41:00         D   \n",
      "154      C536383  2010-12-01    09:49:00    35004C   \n",
      "235      C536391  2010-12-01    10:24:00     22556   \n",
      "236      C536391  2010-12-01    10:24:00     21984   \n",
      "237      C536391  2010-12-01    10:24:00     21983   \n",
      "...          ...         ...         ...       ...   \n",
      "540449   C581490  2011-12-09    09:57:00     23144   \n",
      "541541   C581499  2011-12-09    10:28:00         M   \n",
      "541715   C581568  2011-12-09    11:57:00     21258   \n",
      "541716   C581569  2011-12-09    11:58:00     84978   \n",
      "541717   C581569  2011-12-09    11:58:00     20979   \n",
      "\n",
      "                             Description  Quantity  UnitPrice  Totalsale  \\\n",
      "141                             Discount        -1      27.50     -27.50   \n",
      "154      SET OF 3 COLOURED  FLYING DUCKS        -1       4.65      -4.65   \n",
      "235        PLASTERS IN TIN CIRCUS PARADE       -12       1.65     -19.80   \n",
      "236      PACK OF 12 PINK PAISLEY TISSUES       -24       0.29      -6.96   \n",
      "237      PACK OF 12 BLUE PAISLEY TISSUES       -24       0.29      -6.96   \n",
      "...                                  ...       ...        ...        ...   \n",
      "540449   ZINC T-LIGHT HOLDER STARS SMALL       -11       0.83      -9.13   \n",
      "541541                            Manual        -1     224.69    -224.69   \n",
      "541715        VICTORIAN SEWING BOX LARGE        -5      10.95     -54.75   \n",
      "541716  HANGING HEART JAR T-LIGHT HOLDER        -1       1.25      -1.25   \n",
      "541717     36 PENCILS TUBE RED RETROSPOT        -5       1.25      -6.25   \n",
      "\n",
      "       CustomerID         Country  \n",
      "141       14527.0  United Kingdom  \n",
      "154       15311.0  United Kingdom  \n",
      "235       17548.0  United Kingdom  \n",
      "236       17548.0  United Kingdom  \n",
      "237       17548.0  United Kingdom  \n",
      "...           ...             ...  \n",
      "540449    14397.0  United Kingdom  \n",
      "541541    15498.0  United Kingdom  \n",
      "541715    15311.0  United Kingdom  \n",
      "541716    17315.0  United Kingdom  \n",
      "541717    17315.0  United Kingdom  \n",
      "\n",
      "[8872 rows x 10 columns]\n"
     ]
    }
   ],
   "source": [
    "# Filter rows where Totalsale is negative\n",
    "check_negative_sales = df[df['Totalsale'] < 0]\n",
    "\n",
    "# Move negative Totalsale values to Refunds_Amount\n",
    "df.loc[df['Totalsale'] < 0, 'Refunds_Amount'] = df['Totalsale']\n",
    "#assigning the negative values in Totalsale to 0\n",
    "df.loc[df['Totalsale'] < 0, 'Totalsale'] = 0\n",
    "# Display the filtered DataFrame\n",
    "print(check_negative_sales)"
   ]
  },
  {
   "cell_type": "markdown",
   "id": "d99e2d0a-c9ff-42d2-ac00-59f39a12b12f",
   "metadata": {},
   "source": [
    "This script examines a dataset (df) to find transactions where the total sale amount ('Quantity') is negative. It identifies these transactions and moves the negative sale amounts to a new column called 'Refunds_Quantity'. Additionally, to correct the data, it changes these negative sale amounts to 0. Finally, it shows the filtered dataset, highlighting transactions that originally had negative sale amounts. This process helps in managing and visualizing refunds or transactions with incorrect sale values."
   ]
  },
  {
   "cell_type": "code",
   "execution_count": 856,
   "id": "f9900a83-a7b1-4aeb-8226-b38f613b28f4",
   "metadata": {},
   "outputs": [
    {
     "name": "stdout",
     "output_type": "stream",
     "text": [
      "       InvoiceNo InvoiceDate InvoiceTime StockCode  \\\n",
      "141      C536379  2010-12-01    09:41:00         D   \n",
      "154      C536383  2010-12-01    09:49:00    35004C   \n",
      "235      C536391  2010-12-01    10:24:00     22556   \n",
      "236      C536391  2010-12-01    10:24:00     21984   \n",
      "237      C536391  2010-12-01    10:24:00     21983   \n",
      "...          ...         ...         ...       ...   \n",
      "540449   C581490  2011-12-09    09:57:00     23144   \n",
      "541541   C581499  2011-12-09    10:28:00         M   \n",
      "541715   C581568  2011-12-09    11:57:00     21258   \n",
      "541716   C581569  2011-12-09    11:58:00     84978   \n",
      "541717   C581569  2011-12-09    11:58:00     20979   \n",
      "\n",
      "                             Description  Quantity  UnitPrice  Totalsale  \\\n",
      "141                             Discount        -1      27.50        0.0   \n",
      "154      SET OF 3 COLOURED  FLYING DUCKS        -1       4.65        0.0   \n",
      "235        PLASTERS IN TIN CIRCUS PARADE       -12       1.65        0.0   \n",
      "236      PACK OF 12 PINK PAISLEY TISSUES       -24       0.29        0.0   \n",
      "237      PACK OF 12 BLUE PAISLEY TISSUES       -24       0.29        0.0   \n",
      "...                                  ...       ...        ...        ...   \n",
      "540449   ZINC T-LIGHT HOLDER STARS SMALL       -11       0.83        0.0   \n",
      "541541                            Manual        -1     224.69        0.0   \n",
      "541715        VICTORIAN SEWING BOX LARGE        -5      10.95        0.0   \n",
      "541716  HANGING HEART JAR T-LIGHT HOLDER        -1       1.25        0.0   \n",
      "541717     36 PENCILS TUBE RED RETROSPOT        -5       1.25        0.0   \n",
      "\n",
      "       CustomerID         Country  Refunds_Amount  \n",
      "141       14527.0  United Kingdom          -27.50  \n",
      "154       15311.0  United Kingdom           -4.65  \n",
      "235       17548.0  United Kingdom          -19.80  \n",
      "236       17548.0  United Kingdom           -6.96  \n",
      "237       17548.0  United Kingdom           -6.96  \n",
      "...           ...             ...             ...  \n",
      "540449    14397.0  United Kingdom           -9.13  \n",
      "541541    15498.0  United Kingdom         -224.69  \n",
      "541715    15311.0  United Kingdom          -54.75  \n",
      "541716    17315.0  United Kingdom           -1.25  \n",
      "541717    17315.0  United Kingdom           -6.25  \n",
      "\n",
      "[8872 rows x 11 columns]\n"
     ]
    }
   ],
   "source": [
    "# Filter rows where Quantity is negative\n",
    "check_negative_quantity = df[df['Quantity'] < 0]\n",
    "\n",
    "# Move negative Totalsale values to Refunds_Amount\n",
    "df.loc[df['Quantity'] < 0, 'Refunds_Quantity'] = df['Quantity']\n",
    "#assigning the negative values in Quantity to 0\n",
    "df.loc[df['Quantity'] < 0, 'Quantity'] = 0\n",
    "# Display the filtered DataFrame\n",
    "print(check_negative_quantity)"
   ]
  },
  {
   "cell_type": "code",
   "execution_count": 857,
   "id": "edea696f-8f00-4617-98eb-669ef2eb3ad3",
   "metadata": {},
   "outputs": [],
   "source": [
    "# Fill NaN values in Refunds_Amount and Refunds_Quantity with 0\n",
    "df['Refunds_Amount'] = df['Refunds_Amount'].fillna(0)\n",
    "df['Refunds_Quantity'] = df['Refunds_Quantity'].fillna(0)"
   ]
  },
  {
   "cell_type": "code",
   "execution_count": 859,
   "id": "f8e9ae9a-0024-452e-aefc-9d1466e4b59f",
   "metadata": {},
   "outputs": [],
   "source": [
    "# Create a copy of the DataFrame to avoid modifying a slice of the original DataFrame\n",
    "#df_cleaned = df.copy()\n",
    "\n",
    "# Standardizing the 'Country' names by stripping whitespaces and capitalizing each word\n",
    "df['Country'] = df_cleaned['Country'].str.strip().str.title()\n",
    "\n",
    "# Removing rows with unspecified or community countries\n",
    "df = df[~df['Country'].isin(['European Community', 'Unspecified'])]\n",
    "\n",
    "# Replacing EIRE with Ireland and RSA with Republic of South Africa\n",
    "df.loc[df['Country'] == 'Eire', 'Country'] = 'Ireland'\n",
    "df.loc[df['Country'] == 'Rsa', 'Country'] = 'Republic Of South Africa'"
   ]
  },
  {
   "cell_type": "code",
   "execution_count": 870,
   "id": "fb8bd355-9397-4106-86cf-e278eb06418e",
   "metadata": {},
   "outputs": [
    {
     "name": "stdout",
     "output_type": "stream",
     "text": [
      "Total Quantity of Refunds by Country:\n",
      "            Country  Refunds_Quantity\n",
      "33   United Kingdom          259167.0\n",
      "15          Ireland            4196.0\n",
      "12          Germany            1815.0\n",
      "11           France            1623.0\n",
      "34              Usa            1424.0\n",
      "29            Spain            1127.0\n",
      "22      Netherlands             809.0\n",
      "18            Japan             798.0\n",
      "0         Australia             556.0\n",
      "30           Sweden             446.0\n",
      "31      Switzerland             305.0\n",
      "17            Italy             113.0\n",
      "23           Norway              91.0\n",
      "3           Belgium              85.0\n",
      "8    Czech Republic              79.0\n",
      "25         Portugal              78.0\n",
      "16           Israel              56.0\n",
      "1           Austria              54.0\n",
      "9           Denmark              47.0\n",
      "7            Cyprus              44.0\n",
      "10          Finland              38.0\n",
      "24           Poland              31.0\n",
      "21            Malta              26.0\n",
      "6   Channel Islands              12.0\n",
      "28        Singapore               7.0\n",
      "27     Saudi Arabia               5.0\n",
      "13           Greece               1.0\n"
     ]
    }
   ],
   "source": [
    "# Filter rows where Quantity is negative and move to Refunds_Quantity\n",
    "df.loc[df['Quantity'] < 0, 'Refunds_Quantity'] = df['Quantity']\n",
    "\n",
    "\n",
    "# Convert Refunds_Quantity to absolute values\n",
    "df['Refunds_Quantity'] = df['Refunds_Quantity'].abs()\n",
    "\n",
    "# Group by Country and sum Refunds_Quantity\n",
    "refunds_by_country = df.groupby('Country')['Refunds_Quantity'].sum().reset_index()\n",
    "\n",
    "refunds_by_country = refunds_by_country.sort_values(by='Refunds_Quantity', ascending=False)\n",
    "# Eliminate rows where Refunds_Quantity is 0\n",
    "refunds_by_country = refunds_by_country[refunds_by_country['Refunds_Quantity'] > 0]\n",
    "print(\"Total Quantity of Refunds by Country:\")\n",
    "\n",
    "print(refunds_by_country)\n"
   ]
  },
  {
   "cell_type": "markdown",
   "id": "9cf58b04-4f7c-4494-a98b-2ea37748d898",
   "metadata": {},
   "source": [
    "The script calculates and displays the refunds ratio for each country, showing the percentage of items refunded relative to the total items sold in that country. It merges data on refunds and total sales quantities by country, computes the ratio, and sorts the results to highlight countries with higher refund rates"
   ]
  },
  {
   "cell_type": "code",
   "execution_count": 880,
   "id": "fb6df063-35da-4e93-9ace-07ca61fd2bbd",
   "metadata": {},
   "outputs": [
    {
     "name": "stdout",
     "output_type": "stream",
     "text": [
      "Refunds Ratio by Country:\n",
      "            Country  Refunds_Quantity  Total_Sales_Quantity  Refunds_Ratio\n",
      "0    United Kingdom          259167.0               4241305       6.110549\n",
      "1           Ireland            4196.0                140133       2.994298\n",
      "2           Germany            1815.0                119154       1.523239\n",
      "3            France            1623.0                111428       1.456546\n",
      "4               Usa            1424.0                  2458      57.933279\n",
      "5             Spain            1127.0                 27933       4.034654\n",
      "6       Netherlands             809.0                200361       0.403771\n",
      "7             Japan             798.0                 26016       3.067343\n",
      "8         Australia             556.0                 83891       0.662765\n",
      "9            Sweden             446.0                 36078       1.236210\n",
      "10      Switzerland             305.0                 30082       1.013895\n",
      "11            Italy             113.0                  8112       1.392998\n",
      "12           Norway              91.0                 19336       0.470625\n",
      "13          Belgium              85.0                 23237       0.365796\n",
      "14   Czech Republic              79.0                   671      11.773472\n",
      "15         Portugal              78.0                 16095       0.484623\n",
      "16           Israel              56.0                  4043       1.385110\n",
      "17          Austria              54.0                  4881       1.106331\n",
      "18          Denmark              47.0                  8235       0.570735\n",
      "19           Cyprus              44.0                  6340       0.694006\n",
      "20          Finland              38.0                 10704       0.355007\n",
      "21           Poland              31.0                  3684       0.841477\n",
      "22            Malta              26.0                   970       2.680412\n",
      "23  Channel Islands              12.0                  9485       0.126516\n",
      "24        Singapore               7.0                  5241       0.133562\n",
      "25     Saudi Arabia               5.0                    80       6.250000\n",
      "26           Greece               1.0                  1557       0.064226\n"
     ]
    }
   ],
   "source": [
    "# Step 1: Calculate total sales quantity by country\n",
    "total_sales_by_country = df.groupby('Country')['Quantity'].sum().reset_index()\n",
    "total_sales_by_country.columns = ['Country', 'Total_Sales_Quantity']  # Rename the column for clarity\n",
    "\n",
    "# Step 2: Merge refunds_by_country with total_sales_by_country to get total sales quantity\n",
    "refunds_by_country = refunds_by_country.merge(total_sales_by_country, on='Country', suffixes=('_refunds', '_total_sales'))\n",
    "\n",
    "# Step 3: Calculate refunds ratio and multiply by 100\n",
    "refunds_by_country['Refunds_Ratio'] = (refunds_by_country['Refunds_Quantity'] / refunds_by_country['Total_Sales_Quantity']) * 100\n",
    "\n",
    "# Step 4: Sort by Refunds_Quantity in descending order (optional, if not already sorted)\n",
    "refunds_by_country = refunds_by_country.sort_values(by='Refunds_Quantity', ascending=False)\n",
    "\n",
    "# Display the results\n",
    "print(\"Refunds Ratio by Country:\")\n",
    "print(refunds_by_country[['Country', 'Refunds_Quantity', 'Total_Sales_Quantity', 'Refunds_Ratio']])\n"
   ]
  },
  {
   "cell_type": "code",
   "execution_count": 862,
   "id": "fe94b9ce-939c-453a-bf75-118f53db48f4",
   "metadata": {},
   "outputs": [],
   "source": [
    "# Standardizing the 'StockCode' names by stripping whitespaces and capitalizing each word\n",
    "df['StockCode'] = df_cleaned['StockCode'].str.strip().str.title()"
   ]
  },
  {
   "cell_type": "markdown",
   "id": "f6bf7954-5fc9-4510-8eb1-0581696d1182",
   "metadata": {},
   "source": [
    "The script identifies the top 10 countries based on the quantity of refunds processed. It filters the original dataset to include only transactions from these top countries and then calculates the total quantity of refunds for each product description within each country. The results are sorted to show the most refunded product for each country, and finally, it displays the top 10 countries along with their respective most refunded products."
   ]
  },
  {
   "cell_type": "code",
   "execution_count": 881,
   "id": "dcb798b9-478a-4f4f-910b-669d89d59f7c",
   "metadata": {},
   "outputs": [
    {
     "name": "stdout",
     "output_type": "stream",
     "text": [
      "Top 10 Countries Based on Refunds_Quantity and Their Most Refunded Products:\n",
      "          Country                        Description  Refunds_Quantity\n",
      "0       Australia          RIBBON REEL SNOWY VILLAGE             120.0\n",
      "1          France             WRAP CHRISTMAS VILLAGE             250.0\n",
      "2         Germany      BOYS ALPHABET IRON ON PATCHES             288.0\n",
      "3         Ireland       36 DOILIES VINTAGE CHRISTMAS             288.0\n",
      "4           Japan  ROUND SNACK BOXES SET OF 4 FRUITS             624.0\n",
      "5     Netherlands                             Manual             480.0\n",
      "6           Spain  VANILLA SCENT CANDLE JEWELLED BOX             288.0\n",
      "7          Sweden    SET OF 3 BABUSHKA STACKING TINS             240.0\n",
      "8  United Kingdom        PAPER CRAFT , LITTLE BIRDIE           80995.0\n",
      "9             Usa             MINI PAINT SET VINTAGE              36.0\n"
     ]
    }
   ],
   "source": [
    "# Step 1: Identify the top 10 countries based on Refunds_Quantity\n",
    "top_10_countries = refunds_by_country.head(10)['Country']\n",
    "\n",
    "# Step 2: Filter the DataFrame for transactions from these top 10 countries\n",
    "top_countries_df = df[df['Country'].isin(top_10_countries)]\n",
    "\n",
    "# Step 3: Group by Country, StockCode, and Description to find the most refunded product for each country\n",
    "most_refunded_products = top_countries_df.groupby(['Country',  'Description'])['Refunds_Quantity'].sum().reset_index()\n",
    "\n",
    "# Step 4: Sort the grouped data by Refunds_Quantity in descending order\n",
    "most_refunded_products = most_refunded_products.sort_values(['Country', 'Refunds_Quantity'], ascending=[True, False])\n",
    "\n",
    "# Step 5: Get the most refunded product for each country\n",
    "top_refunded_products_by_country = most_refunded_products.groupby('Country').first().reset_index()\n",
    "\n",
    "# Display the results\n",
    "print(\"Top 10 Countries Based on Refunds_Quantity and Their Most Refunded Products:\")\n",
    "print(top_refunded_products_by_country)\n"
   ]
  },
  {
   "cell_type": "code",
   "execution_count": 777,
   "id": "4d026adf-18b2-49d1-88c6-c6df31bdeba4",
   "metadata": {},
   "outputs": [],
   "source": [
    "#Dropin column Month as we already have that data\n",
    "#df = df.drop(columns=['Month']) "
   ]
  },
  {
   "cell_type": "code",
   "execution_count": 678,
   "id": "c1da4514-f5c9-4bac-8ca0-8a0186809557",
   "metadata": {},
   "outputs": [],
   "source": [
    "# Filtering out rows where 'CustomerID' is 'Unassigned'\n",
    "df_filtered = df[df['CustomerID'] != 'Unassigned']\n"
   ]
  },
  {
   "cell_type": "code",
   "execution_count": 679,
   "id": "508fd951-cf4d-4e15-a833-b24c31c158cc",
   "metadata": {},
   "outputs": [
    {
     "data": {
      "image/png": "[encoded data removed]",
      "text/plain": [
       "<Figure size 1200x600 with 1 Axes>"
      ]
     },
     "metadata": {},
     "output_type": "display_data"
    }
   ],
   "source": [
    "from matplotlib.ticker import FuncFormatter\n",
    "\n",
    "df['Month'] = df['InvoiceDate'].dt.to_period('M') # \n",
    "sales_over_time = df.groupby('Month')['Totalsale'].sum()\n",
    "\n",
    "\n",
    "plt.style.use('dark_background')\n",
    "plt.figure(figsize=(12,6))\n",
    "sales_over_time.plot(kind='area', alpha=0.6)\n",
    "plt.grid(True, color='w', linestyle='--', linewidth=0.3, alpha=0.7)\n",
    "plt.title('Total Sales Over Time')\n",
    "plt.xlabel('Month')\n",
    "plt.ylabel('Sales')\n",
    "def millions_formatter(x,pos):\n",
    "    return f'{x / 1e6:.1f}M'\n",
    "\n",
    "# Apply the formatter to the y-axis\n",
    "formatter = FuncFormatter(millions_formatter)\n",
    "plt.gca().yaxis.set_major_formatter(formatter)\n",
    "plt.show()"
   ]
  },
  {
   "cell_type": "code",
   "execution_count": 638,
   "id": "a25085ac-14cb-4a78-8b01-e802601cd57d",
   "metadata": {},
   "outputs": [
    {
     "data": {
      "image/png": "[encoded data removed]",
      "text/plain": [
       "<Figure size 1000x600 with 1 Axes>"
      ]
     },
     "metadata": {},
     "output_type": "display_data"
    }
   ],
   "source": [
    "#Sales by quorter\n",
    "\n",
    "# Creating a new column 'Quarter' by extracting the quarter from 'InvoiceDate'\n",
    "df['Quarter'] = df['InvoiceDate'].dt.to_period('Q')\n",
    "# Summing 'Totalsale' by quarter and resetting the index\n",
    "sales_by_quarter = df.groupby('Quarter')['Totalsale'].sum().reset_index()\n",
    "\n",
    "# Prepare data for the bar chart\n",
    "sizes = sales_by_quarter['Totalsale']\n",
    "labels = sales_by_quarter['Quarter'].astype(str)\n",
    "\n",
    "# Plotting the bar chart\n",
    "plt.figure(figsize=(10, 6))\n",
    "\n",
    "bars = plt.bar(labels, sizes, color=plt.cm.Spectral(range(len(sizes))))\n",
    "plt.title('Total Sales by Quarter')\n",
    "plt.xlabel('Quarter')\n",
    "plt.ylabel('Total Sales')\n",
    "plt.xticks(rotation=45, ha='right')\n",
    "\n",
    "# Adding the data labels on top of the bars\n",
    "for bar in bars:\n",
    "    yval = bar.get_height()\n",
    "    plt.text(bar.get_x() + bar.get_width()/2, yval, f'{yval:,}', va='bottom', ha='center', fontsize=9)\n",
    "\n",
    "# Applying the millions formatter to the y-axis\n",
    "def millions_formatter(x, pos):\n",
    "    return f'{x / 1e6:.1f}M'\n",
    "\n",
    "formatter = FuncFormatter(millions_formatter)\n",
    "plt.gca().yaxis.set_major_formatter(formatter)\n",
    "\n",
    "\n",
    "plt.show()\n"
   ]
  },
  {
   "cell_type": "markdown",
   "id": "28489bb0-54ad-4384-a0fc-1db6d5aecf49",
   "metadata": {},
   "source": [
    "This script groups countries into continents using predefined lists. It matches each country in a DataFrame (df), which includes a 'Country' column, to its corresponding continent based on a predefined dictionary (continent_map). This helps categorize each country under a specific continent label for easier geographical analysis."
   ]
  },
  {
   "cell_type": "code",
   "execution_count": 893,
   "id": "c97c6557-abe5-418e-8806-def13162013c",
   "metadata": {},
   "outputs": [],
   "source": [
    "\n",
    "# Create a list of countries and continents\n",
    "continent_map = {\n",
    "    'Europe': ['France', 'Netherlands', 'Germany', 'Norway', 'Ireland', 'Switzerland', 'Spain', 'Poland', 'Portugal',\n",
    "               'Italy', 'Belgium', 'Lithuania', 'Iceland', 'Sweden', 'Austria', 'Denmark', 'Finland', 'Greece', \n",
    "               'Malta', 'Channel Islands', 'Czech Republic', 'Cyprus'],\n",
    "    'United Kingdom': ['United Kingdom'],\n",
    "    'Asia': ['Japan', 'Singapore', 'Hong Kong'],\n",
    "    'Middle East': ['Bahrain', 'Lebanon', 'United Arab Emirates', 'Saudi Arabia', 'Israel'],\n",
    "    'Australia': ['Australia'],\n",
    "    'North America': ['Canada', 'Usa'],\n",
    "    'South America': ['Brazil'],\n",
    "    'Africa': ['Republic Of South Africa']\n",
    "}\n",
    "\n",
    "# Create a reverse map for countries to continents, making it easier for continent based analysis \n",
    "country_to_continent = {country: continent for continent, countries in continent_map.items() for country in countries}\n",
    "\n",
    "# Function to map countries to continents\n",
    "def map_country_to_continent(country):\n",
    "    return country_to_continent.get(country, 'Unknown')\n",
    "\n",
    "# Assign continents\n",
    "df['Continent'] = df['Country'].apply(map_country_to_continent)"
   ]
  },
  {
   "cell_type": "code",
   "execution_count": null,
   "id": "e07ee5c7-bf8f-4b68-a5ea-cf1feec1575e",
   "metadata": {},
   "outputs": [],
   "source": []
  },
  {
   "cell_type": "code",
   "execution_count": 894,
   "id": "81ce1ab4-09e3-4ca6-bac2-5c1b143f52e2",
   "metadata": {},
   "outputs": [
    {
     "data": {
      "image/png": "[encoded data removed]",
      "text/plain": [
       "<Figure size 1600x900 with 1 Axes>"
      ]
     },
     "metadata": {},
     "output_type": "display_data"
    }
   ],
   "source": [
    "import pandas as pd\n",
    "import matplotlib.pyplot as plt\n",
    "from matplotlib.ticker import FuncFormatter\n",
    "\n",
    "# Assuming df is already prepared and processed\n",
    "# Filter out rows where Quantity is 0\n",
    "df_filtered = df[df['Quantity'] != 0]\n",
    "\n",
    "sales_by_continent = df_filtered.groupby('Continent')['Totalsale'].sum()\n",
    "sales_by_continent = sales_by_continent.sort_values(ascending=False)\n",
    "\n",
    "plt.style.use('dark_background')\n",
    "plt.figure(figsize=(16, 9))\n",
    "\n",
    "# Plotting sales by continent\n",
    "sales_by_continent.plot(kind='bar', color='skyblue')\n",
    "\n",
    "plt.grid(axis='y', color='w', linestyle='--', linewidth=0.4, alpha=0.7)\n",
    "plt.title('Total Sales by Continent')\n",
    "plt.xlabel('Continent')\n",
    "plt.ylabel('Sales')\n",
    "plt.xticks(rotation=45, ha='right')\n",
    "\n",
    "def millions_formatter(x, pos):\n",
    "    return f'{x / 1e6:.1f}M'\n",
    "\n",
    "for i, v in enumerate(sales_by_continent):\n",
    "    plt.text(i, v + 0.02 * v, f'{v:,}', ha='center', va='bottom', fontsize=10)\n",
    "\n",
    "# Apply the formatter to the y-axis\n",
    "formatter = FuncFormatter(millions_formatter)\n",
    "plt.gca().yaxis.set_major_formatter(formatter)\n",
    "\n",
    "plt.show()\n"
   ]
  },
  {
   "cell_type": "code",
   "execution_count": null,
   "id": "94b0c555-4e15-4591-b4b5-c7a5780cad61",
   "metadata": {},
   "outputs": [],
   "source": []
  },
  {
   "cell_type": "code",
   "execution_count": 891,
   "id": "8db63d3c-0576-4027-a7eb-858a6c21be21",
   "metadata": {},
   "outputs": [
    {
     "name": "stdout",
     "output_type": "stream",
     "text": [
      "Countries with the Most Expensive Product Sold:\n",
      "                          UnitPrice  Quantity\n",
      "Country                                      \n",
      "United Kingdom              8142.75         1\n",
      "France                      4161.06         1\n",
      "Singapore                   3949.32         1\n",
      "Ireland                     1687.17         1\n",
      "Portugal                    1241.98         1\n",
      "Norway                       700.00         1\n",
      "Germany                      599.50         1\n",
      "Canada                       550.94         1\n",
      "Australia                    350.00         1\n",
      "Cyprus                       320.69         1\n",
      "Italy                        300.00         1\n",
      "Channel Islands              293.00         1\n",
      "Finland                      275.60         2\n",
      "Israel                       125.00         1\n",
      "Netherlands                  110.00         2\n",
      "Malta                         65.00         7\n",
      "Spain                         65.00         1\n",
      "Greece                        50.00         2\n",
      "Switzerland                   40.00         2\n",
      "Sweden                        40.00         5\n",
      "Poland                        40.00         3\n",
      "Austria                       40.00         3\n",
      "Czech Republic                40.00         1\n",
      "Belgium                       39.95         1\n",
      "United Arab Emirates          37.50         1\n",
      "Denmark                       18.00         8\n",
      "Usa                           16.95         1\n",
      "Lebanon                       14.95         4\n",
      "Republic Of South Africa      14.95         2\n",
      "Japan                         14.95        18\n",
      "Iceland                       12.75         3\n",
      "Bahrain                       12.75         2\n",
      "Brazil                        10.95        16\n",
      "Lithuania                      5.95        12\n",
      "Saudi Arabia                   5.49         2\n"
     ]
    }
   ],
   "source": [
    "# Filter rows where Quantity is greater than 0\n",
    "df_filtered = df[df['Quantity'] > 0]\n",
    "\n",
    "# Extracting the rows where the most expensive product was sold in each country\n",
    "max_price_products = df_filtered.loc[df_filtered.groupby('Country')['UnitPrice'].idxmax()]\n",
    "\n",
    "# Group by Country and find the maximum UnitPrice and corresponding Quantity\n",
    "countries_with_max_price = max_price_products.groupby('Country').agg({'UnitPrice': 'max', 'Quantity': 'sum'})\n",
    "\n",
    "# Display the countries with the highest UnitPrice and corresponding Quantity\n",
    "print(\"Countries with the Most Expensive Product Sold:\")\n",
    "print(countries_with_max_price.sort_values(by='UnitPrice', ascending=False))\n"
   ]
  },
  {
   "cell_type": "code",
   "execution_count": 311,
   "id": "ca32d2df-e39c-4fce-a179-6b0c4a5835d8",
   "metadata": {},
   "outputs": [
    {
     "data": {
      "text/plain": [
       "8142.75"
      ]
     },
     "execution_count": 311,
     "metadata": {},
     "output_type": "execute_result"
    }
   ],
   "source": [
    "#Checking what is the most expencive product\n",
    "most_expencive= df['UnitPrice'].max()\n",
    "most_expencive"
   ]
  },
  {
   "cell_type": "markdown",
   "id": "90520996-b03f-4526-b944-87bba6a7a57b",
   "metadata": {},
   "source": [
    "This script identifies and displays the countries where the most expensive product was sold. It calculates the highest unit price for each country and shows the total quantity of that product sold in each country."
   ]
  },
  {
   "cell_type": "code",
   "execution_count": 889,
   "id": "4e58c159-fbce-44dd-97e3-afd2a1e10ee3",
   "metadata": {},
   "outputs": [
    {
     "name": "stdout",
     "output_type": "stream",
     "text": [
      "Countries with the Most Expensive Product Sold:\n",
      "Country\n",
      "United Kingdom              38970.00\n",
      "France                       4161.06\n",
      "Singapore                    3949.32\n",
      "Spain                        1715.85\n",
      "Ireland                      1687.17\n",
      "Portugal                     1241.98\n",
      "Norway                        700.00\n",
      "Germany                       599.50\n",
      "Canada                        550.94\n",
      "Australia                     350.00\n",
      "Cyprus                        320.69\n",
      "Italy                         300.00\n",
      "Channel Islands               293.00\n",
      "Finland                       275.60\n",
      "Netherlands                   206.40\n",
      "Israel                        125.00\n",
      "Malta                          65.00\n",
      "Greece                         50.00\n",
      "Japan                          45.57\n",
      "Switzerland                    40.00\n",
      "Sweden                         40.00\n",
      "Poland                         40.00\n",
      "Czech Republic                 40.00\n",
      "Austria                        40.00\n",
      "Belgium                        39.95\n",
      "United Arab Emirates           37.50\n",
      "Denmark                        18.00\n",
      "Usa                            16.95\n",
      "Lebanon                        14.95\n",
      "Republic Of South Africa       14.95\n",
      "Iceland                        12.75\n",
      "Bahrain                        12.75\n",
      "Brazil                         10.95\n",
      "Lithuania                       5.95\n",
      "Saudi Arabia                    5.49\n",
      "Name: UnitPrice, dtype: float64\n"
     ]
    }
   ],
   "source": [
    "# Extracting the list where the most expensive product was sold\n",
    "max_price_products = df.loc[df.groupby('Country')['UnitPrice'].idxmax()]\n",
    "\n",
    "# Group by Country and find the maximum UnitPrice\n",
    "countries_with_max_price = max_price_products.groupby('Country')['UnitPrice'].max()\n",
    "\n",
    "# Display the countries with the highest UnitPrice\n",
    "print(\"Countries with the Most Expensive Product Sold:\")\n",
    "print(countries_with_max_price.sort_values(ascending=False))\n"
   ]
  },
  {
   "cell_type": "code",
   "execution_count": 312,
   "id": "5d443175-5ec7-4fc4-8106-a894df3dba77",
   "metadata": {},
   "outputs": [
    {
     "data": {
      "text/plain": [
       "0.04"
      ]
     },
     "execution_count": 312,
     "metadata": {},
     "output_type": "execute_result"
    }
   ],
   "source": [
    "#Checking what is the most affordable product\n",
    "most_affordable= df['UnitPrice'].min()\n",
    "most_affordable"
   ]
  },
  {
   "cell_type": "code",
   "execution_count": 313,
   "id": "2f9b85cb-68fa-4d0a-855e-d6b67af5ca13",
   "metadata": {},
   "outputs": [],
   "source": [
    "#Eliminating rows where Uniteprice is bellow 0\n",
    "df=df[df['UnitPrice'] >=0]"
   ]
  },
  {
   "cell_type": "markdown",
   "id": "5cda35a4-d4a6-4a1d-beb5-82ca6e358217",
   "metadata": {},
   "source": [
    "This script finds and lists the top 10 customers who spend the most and those who make the most purchases. It helps identify valuable customers based on their buying habits."
   ]
  },
  {
   "cell_type": "code",
   "execution_count": 314,
   "id": "930a7a26-44bf-40b0-8892-03f4a33bd001",
   "metadata": {},
   "outputs": [
    {
     "name": "stdout",
     "output_type": "stream",
     "text": [
      "Top 10 Customers by Total Sales:\n",
      "      CustomerID  TotalSales  TotalOrders\n",
      "1686     14646.0   280206.02         2076\n",
      "4196     18102.0   259657.30          431\n",
      "3723     17450.0   194390.79          336\n",
      "3003     16446.0   168472.50            3\n",
      "1876     14911.0   143711.17         5670\n",
      "54       12415.0   124914.53          714\n",
      "1331     14156.0   117210.08         1395\n",
      "3766     17511.0    91062.38          963\n",
      "2698     16029.0    80850.84          241\n",
      "0        12346.0    77183.60            1\n",
      "\n",
      "Top 10 Customers by Total Orders:\n",
      "      CustomerID  TotalSales  TotalOrders\n",
      "4005     17841.0    40519.84         7676\n",
      "1876     14911.0   143711.17         5670\n",
      "1287     14096.0    65164.79         5111\n",
      "324      12748.0    33053.19         4412\n",
      "1658     14606.0    12076.15         2677\n",
      "2172     15311.0    60632.75         2366\n",
      "1686     14646.0   280206.02         2076\n",
      "560      13089.0    58762.08         1814\n",
      "688      13263.0     7436.93         1667\n",
      "1431     14298.0    51527.30         1637\n"
     ]
    }
   ],
   "source": [
    "#Customer Se\n",
    "\n",
    "df_unassigned = df[df['CustomerID'] != 'Unassigned']\n",
    "\n",
    "# Group by CustomerID and aggregate Totalsale and count of InvoiceNo\n",
    "customer_sales_orders = df_unassigned.groupby('CustomerID').agg({\n",
    "    'Totalsale': 'sum',\n",
    "    'InvoiceNo': 'count'\n",
    "}).reset_index()\n",
    "\n",
    "# Rename columns for clarity\n",
    "customer_sales_orders.columns = ['CustomerID', 'TotalSales', 'TotalOrders']\n",
    "\n",
    "# Sort and select top 10 customers by TotalSales\n",
    "top_10_customers_sales = customer_sales_orders.sort_values(by='TotalSales', ascending=False).head(10)\n",
    "\n",
    "# Sort and select top 10 customers by TotalOrders\n",
    "top_10_customers_orders = customer_sales_orders.sort_values(by='TotalOrders', ascending=False).head(10)\n",
    "\n",
    "print(\"Top 10 Customers by Total Sales:\")\n",
    "print(top_10_customers_sales)\n",
    "print(\"\\nTop 10 Customers by Total Orders:\")\n",
    "print(top_10_customers_orders)"
   ]
  },
  {
   "cell_type": "code",
   "execution_count": null,
   "id": "dcb44a0b-2c1b-4426-a591-54b3707a8669",
   "metadata": {},
   "outputs": [],
   "source": []
  },
  {
   "cell_type": "code",
   "execution_count": null,
   "id": "0e2ff90e-614b-4d54-9a81-c7780737be1f",
   "metadata": {},
   "outputs": [],
   "source": []
  },
  {
   "cell_type": "code",
   "execution_count": null,
   "id": "83590023-bb19-446f-9fef-f89f436b9f4a",
   "metadata": {},
   "outputs": [],
   "source": []
  },
  {
   "cell_type": "code",
   "execution_count": 315,
   "id": "c06d8b23-195c-4c27-b7d1-ef3b6b6c4b32",
   "metadata": {},
   "outputs": [
    {
     "name": "stdout",
     "output_type": "stream",
     "text": [
      "       InvoiceNo InvoiceDate         InvoiceTime StockCode  \\\n",
      "142988    548661  2011-04-01 1900-01-01 14:28:00      POST   \n",
      "34300     539330  2010-12-17 1900-01-01 09:38:00      POST   \n",
      "181145    552449  2011-05-09 1900-01-01 13:49:00     22423   \n",
      "306899    563852  2011-08-19 1900-01-01 15:18:00     84816   \n",
      "157299    550201  2011-04-15 1900-01-01 10:25:00     22423   \n",
      "264976    560187  2011-07-15 1900-01-01 12:05:00      POST   \n",
      "194242    553559  2011-05-17 1900-01-01 17:12:00         M   \n",
      "96678     544578  2011-02-21 1900-01-01 14:04:00         M   \n",
      "383505    570026  2011-10-07 1900-01-01 10:37:00      POST   \n",
      "20036     538003  2010-12-09 1900-01-01 12:05:00      POST   \n",
      "106609    545336  2011-03-01 1900-01-01 16:53:00         M   \n",
      "422351    573077  2011-10-27 1900-01-01 14:13:00         M   \n",
      "398150    571223  2011-10-14 1900-01-01 13:36:00         M   \n",
      "150143    549325  2011-04-08 1900-01-01 10:32:00      POST   \n",
      "72267     542237  2011-01-26 1900-01-01 14:30:00     22423   \n",
      "117054    546328  2011-03-11 1900-01-01 10:19:00         M   \n",
      "304851    563613  2011-08-18 1900-01-01 08:49:00     22823   \n",
      "485574    577609  2011-11-21 1900-01-01 09:51:00      POST   \n",
      "475854    576923  2011-11-17 1900-01-01 10:52:00     23009   \n",
      "73017     542276  2011-01-27 1900-01-01 10:19:00     21781   \n",
      "7988      537081  2010-12-05 1900-01-01 12:00:00   15056BL   \n",
      "475499    576897  2011-11-17 1900-01-01 08:41:00      POST   \n",
      "338448    566557  2011-09-13 1900-01-01 11:47:00     22823   \n",
      "236402    557754  2011-06-22 1900-01-01 13:12:00      POST   \n",
      "204375    554654  2011-05-25 1900-01-01 13:34:00      POST   \n",
      "200745    554155  2011-05-23 1900-01-01 11:26:00         M   \n",
      "395489    571035  2011-10-13 1900-01-01 12:50:00     22605   \n",
      "100817    544838  2011-02-24 1900-01-01 10:34:00     20781   \n",
      "406406    571751  2011-10-19 1900-01-01 11:18:00         M   \n",
      "420305    572886  2011-10-26 1900-01-01 13:46:00     22929   \n",
      "43431     540040  2011-01-04 1900-01-01 14:20:00      POST   \n",
      "5325      536858  2010-12-03 1900-01-01 10:36:00      POST   \n",
      "353797    567824  2011-09-22 1900-01-01 13:00:00      POST   \n",
      "173382    551697  2011-05-03 1900-01-01 13:46:00      POST   \n",
      "389380    570467  2011-10-10 1900-01-01 16:06:00     22848   \n",
      "\n",
      "                          Description  Quantity  UnitPrice  Totalsale  \\\n",
      "142988                        POSTAGE         1     350.00     350.00   \n",
      "34300                         POSTAGE         3      40.00     120.00   \n",
      "181145       REGENCY CAKESTAND 3 TIER         2      12.75      25.50   \n",
      "306899    DANISH ROSE BEDSIDE CABINET         1      39.95      39.95   \n",
      "157299       REGENCY CAKESTAND 3 TIER        16      10.95     175.20   \n",
      "264976                        POSTAGE         1     550.94     550.94   \n",
      "194242                         Manual         1     293.00     293.00   \n",
      "96678                          Manual         1     320.69     320.69   \n",
      "383505                        POSTAGE         1      40.00      40.00   \n",
      "20036                         POSTAGE         8      18.00     144.00   \n",
      "106609                         Manual         2     275.60     551.20   \n",
      "422351                         Manual         1    4161.06    4161.06   \n",
      "398150                         Manual         1     599.50     599.50   \n",
      "150143                        POSTAGE         2      50.00     100.00   \n",
      "72267        REGENCY CAKESTAND 3 TIER         3      12.75      38.25   \n",
      "117054                         Manual         1    1687.17    1687.17   \n",
      "304851  CHEST NATURAL WOOD 20 DRAWERS         1     125.00     125.00   \n",
      "485574                        POSTAGE         1     300.00     300.00   \n",
      "475854    I LOVE LONDON BABY GIFT SET        18      14.95     269.10   \n",
      "73017         MA CAMPAGNE CUTLERY BOX         4      14.95      59.80   \n",
      "7988          EDWARDIAN PARASOL BLACK        12       5.95      71.40   \n",
      "475499                        POSTAGE         7      65.00     455.00   \n",
      "338448  CHEST NATURAL WOOD 20 DRAWERS         2     110.00     220.00   \n",
      "236402                        POSTAGE         1     700.00     700.00   \n",
      "204375                        POSTAGE         3      40.00     120.00   \n",
      "200745                         Manual         1    1241.98    1241.98   \n",
      "395489      WOODEN CROQUET GARDEN SET         2      14.95      29.90   \n",
      "100817       GOLD EAR MUFF HEADPHONES         2       5.49      10.98   \n",
      "406406                         Manual         1    3949.32    3949.32   \n",
      "420305          SCHOOL DESK AND CHAIR         1      65.00      65.00   \n",
      "43431                         POSTAGE         5      40.00     200.00   \n",
      "5325                          POSTAGE         2      40.00      80.00   \n",
      "353797                        POSTAGE         1      37.50      37.50   \n",
      "173382                        POSTAGE         1    8142.75    8142.75   \n",
      "389380     BREAD BIN DINER STYLE PINK         1      16.95      16.95   \n",
      "\n",
      "       CustomerID                   Country  Refunds_Amount  Refunds_Quantity  \\\n",
      "142988    12415.0                 Australia             NaN                 1   \n",
      "34300     12370.0                   Austria             NaN                 3   \n",
      "181145    12355.0                   Bahrain             NaN                 2   \n",
      "306899    12395.0                   Belgium             NaN                 1   \n",
      "157299    12769.0                    Brazil             NaN                16   \n",
      "264976    17444.0                    Canada             NaN                 1   \n",
      "194242    14931.0           Channel Islands             NaN                 1   \n",
      "96678     12365.0                    Cyprus             NaN                 1   \n",
      "383505    12781.0            Czech Republic             NaN                 1   \n",
      "20036     12429.0                   Denmark             NaN                 8   \n",
      "106609    12428.0                   Finland             NaN                 2   \n",
      "422351    12536.0                    France             NaN                 1   \n",
      "398150    13810.0                   Germany             NaN                 1   \n",
      "150143    12717.0                    Greece             NaN                 2   \n",
      "72267     12347.0                   Iceland             NaN                 3   \n",
      "117054    14911.0                   Ireland             NaN                 1   \n",
      "304851    12688.0                    Israel             NaN                 1   \n",
      "485574    12349.0                     Italy             NaN                 1   \n",
      "475854    12753.0                     Japan             NaN                18   \n",
      "73017     12764.0                   Lebanon             NaN                 4   \n",
      "7988      15332.0                 Lithuania             NaN                12   \n",
      "475499    17828.0                     Malta             NaN                 7   \n",
      "338448    14646.0               Netherlands             NaN                 2   \n",
      "236402    12432.0                    Norway             NaN                 1   \n",
      "204375    12815.0                    Poland             NaN                 3   \n",
      "200745    12757.0                  Portugal             NaN                 1   \n",
      "395489    12446.0  Republic Of South Africa             NaN                 2   \n",
      "100817    12565.0              Saudi Arabia             NaN                 2   \n",
      "406406    12744.0                 Singapore             NaN                 1   \n",
      "420305    12448.0                     Spain             NaN                 1   \n",
      "43431     12483.0                    Sweden             NaN                 5   \n",
      "5325      13520.0               Switzerland             NaN                 2   \n",
      "353797    12739.0      United Arab Emirates             NaN                 1   \n",
      "173382    16029.0            United Kingdom             NaN                 1   \n",
      "389380    12607.0                       Usa             NaN                 1   \n",
      "\n",
      "          Month Quarter       Continent  \n",
      "142988  2011-04  2011Q2       Australia  \n",
      "34300   2010-12  2010Q4          Europe  \n",
      "181145  2011-05  2011Q2     Middle East  \n",
      "306899  2011-08  2011Q3          Europe  \n",
      "157299  2011-04  2011Q2   South America  \n",
      "264976  2011-07  2011Q3   North America  \n",
      "194242  2011-05  2011Q2          Europe  \n",
      "96678   2011-02  2011Q1          Europe  \n",
      "383505  2011-10  2011Q4          Europe  \n",
      "20036   2010-12  2010Q4          Europe  \n",
      "106609  2011-03  2011Q1          Europe  \n",
      "422351  2011-10  2011Q4          Europe  \n",
      "398150  2011-10  2011Q4          Europe  \n",
      "150143  2011-04  2011Q2          Europe  \n",
      "72267   2011-01  2011Q1          Europe  \n",
      "117054  2011-03  2011Q1          Europe  \n",
      "304851  2011-08  2011Q3     Middle East  \n",
      "485574  2011-11  2011Q4          Europe  \n",
      "475854  2011-11  2011Q4            Asia  \n",
      "73017   2011-01  2011Q1     Middle East  \n",
      "7988    2010-12  2010Q4          Europe  \n",
      "475499  2011-11  2011Q4          Europe  \n",
      "338448  2011-09  2011Q3          Europe  \n",
      "236402  2011-06  2011Q2          Europe  \n",
      "204375  2011-05  2011Q2          Europe  \n",
      "200745  2011-05  2011Q2          Europe  \n",
      "395489  2011-10  2011Q4          Africa  \n",
      "100817  2011-02  2011Q1     Middle East  \n",
      "406406  2011-10  2011Q4            Asia  \n",
      "420305  2011-10  2011Q4          Europe  \n",
      "43431   2011-01  2011Q1          Europe  \n",
      "5325    2010-12  2010Q4          Europe  \n",
      "353797  2011-09  2011Q3     Middle East  \n",
      "173382  2011-05  2011Q2  United Kingdom  \n",
      "389380  2011-10  2011Q4   North America  \n"
     ]
    }
   ],
   "source": [
    "# Group by 'Country' and get the index of the rows with the highest 'UnitPrice' in each group\n",
    "idx = df.groupby('Country')['UnitPrice'].idxmax()\n",
    "\n",
    "# Use these indices to extract the corresponding rows from the original DataFrame\n",
    "expensive_products_by_country = df.loc[idx]\n",
    "\n",
    "# Sort the results by 'Country' and 'UnitPrice' for clarity\n",
    "expensive_products_by_country = expensive_products_by_country.sort_values(by=['Country', 'UnitPrice'], ascending=[True, False])\n",
    "\n",
    "# Display the result\n",
    "print(expensive_products_by_country)"
   ]
  },
  {
   "cell_type": "code",
   "execution_count": 193,
   "id": "196cb019-8b89-418b-b32a-213e9202c7a0",
   "metadata": {},
   "outputs": [
    {
     "data": {
      "text/plain": [
       "Country\n",
       "United Kingdom              13541.33\n",
       "France                       4161.06\n",
       "Singapore                    3949.32\n",
       "Hong Kong                    2653.95\n",
       "Ireland                      1917.00\n",
       "Portugal                     1241.98\n",
       "Norway                        700.00\n",
       "Germany                       599.50\n",
       "Canada                        550.94\n",
       "Australia                     350.00\n",
       "Cyprus                        320.69\n",
       "Italy                         300.00\n",
       "Channel Islands               293.00\n",
       "Finland                       275.60\n",
       "Israel                        125.00\n",
       "Netherlands                   110.00\n",
       "Malta                          65.00\n",
       "Spain                          65.00\n",
       "Greece                         50.00\n",
       "Poland                         40.00\n",
       "Czech Republic                 40.00\n",
       "Austria                        40.00\n",
       "Switzerland                    40.00\n",
       "Sweden                         40.00\n",
       "Belgium                        39.95\n",
       "United Arab Emirates           37.50\n",
       "Denmark                        18.00\n",
       "Usa                            16.95\n",
       "Republic Of South Africa       14.95\n",
       "Lebanon                        14.95\n",
       "Japan                          14.95\n",
       "Iceland                        12.75\n",
       "Bahrain                        12.75\n",
       "Brazil                         10.95\n",
       "Lithuania                       5.95\n",
       "Saudi Arabia                    5.49\n",
       "Name: UnitPrice, dtype: float64"
      ]
     },
     "execution_count": 193,
     "metadata": {},
     "output_type": "execute_result"
    }
   ],
   "source": [
    "#searching for the country with the highest number of most expencise units bought\n",
    "#As we can see the most expecive products are goin to UK, reason why the highes sales are coming from that country\n",
    "\n",
    "expencive_unit_continent= df.groupby('Country')['UnitPrice'].max().sort_values(ascending= False)\n",
    "expencive_unit_continent"
   ]
  }
 ],
 "metadata": {
  "kernelspec": {
   "display_name": "Python 3 (ipykernel)",
   "language": "python",
   "name": "python3"
  },
  "language_info": {
   "codemirror_mode": {
    "name": "ipython",
    "version": 3
   },
   "file_extension": ".py",
   "mimetype": "text/x-python",
   "name": "python",
   "nbconvert_exporter": "python",
   "pygments_lexer": "ipython3",
   "version": "3.11.7"
  }
 },
 "nbformat": 4,
 "nbformat_minor": 5
}
